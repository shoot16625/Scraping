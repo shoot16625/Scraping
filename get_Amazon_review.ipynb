{
 "cells": [
  {
   "cell_type": "markdown",
   "metadata": {},
   "source": [
    "# アメリカ版Amazonの商品レビューをスクレイピング\n",
    "\n",
    "- レビュー取得ペース，10件/s\n",
    "- 一度に取得できる限界：40000レビュー\n",
    "- 3回に1回くらい途中でクラッシュします。（10000件くらいでクラッシュ）"
   ]
  },
  {
   "cell_type": "code",
   "execution_count": 1,
   "metadata": {},
   "outputs": [],
   "source": [
    "from bs4 import BeautifulSoup\n",
    "import urllib.request\n",
    "import zenhan\n",
    "import re"
   ]
  },
  {
   "cell_type": "code",
   "execution_count": 2,
   "metadata": {
    "scrolled": true
   },
   "outputs": [
    {
     "name": "stdout",
     "output_type": "stream",
     "text": [
      "10 件取得\n"
     ]
    }
   ],
   "source": [
    "page = 1\n",
    "texts = []\n",
    "\n",
    "# ユーザ情報の設定\n",
    "headers = {\"User-Agent\":  \"Mozilla/4.32 (compatible; MSIE 5.5; Windows NT)\"}\n",
    "# headers={'User-Agent': 'Mozilla/4.22 (Macintosh; Intel Mac OS X 10_9_8)'}\n",
    "# headers={'User-Agent': 'AppleWebKit/537.36 (KHTML, like Gecko)'}\n",
    "# headers={'User-Agent': 'Chrome/35.0.1916.47 Safari/537.36'}\n",
    "\n",
    "while page:\n",
    "    #  指定の商品のURLにする\n",
    "    url = \"https://www.amazon.com/TP-Link-Wireless-Router-300Mbps-TL-WR841N/product-reviews/B001FWYGJS/ref=cm_cr_arp_d_viewopt_rvwer?ie=UTF8&reviewerType=all_reviews&pageNumber=%s\" % page\n",
    "\n",
    "    req = urllib.request.Request(url, None, headers)\n",
    "    html = urllib.request.urlopen(req)\n",
    "    soup = BeautifulSoup(html, 'lxml')\n",
    "    reviews = soup.find_all(\"span\", class_='a-size-base review-text')\n",
    "\n",
    "    i = 0\n",
    "    for review in reviews:\n",
    "        # 全角→半角\n",
    "        review = zenhan.z2h(review.text)\n",
    "        texts.append(review)\n",
    "        i += 1\n",
    "\n",
    "    if i != 10:  # 1ページが10件に満たなくなったら終了\n",
    "        break\n",
    "    else:\n",
    "        print(page*10, \"件取得\")\n",
    "        page += 1\n",
    "    break"
   ]
  },
  {
   "cell_type": "code",
   "execution_count": 3,
   "metadata": {},
   "outputs": [],
   "source": [
    "# 特殊文字の除外\n",
    "def issymbol(s):\n",
    "    symbolReg = re.compile(r'^[!-/:-@[-` {-~a-zA-Z0-9_]+$')\n",
    "    return symbolReg.match(s) is not None\n",
    "\n",
    "\n",
    "contents = []\n",
    "for sentence in texts:\n",
    "    if issymbol(sentence):\n",
    "        contents.append(sentence)"
   ]
  },
  {
   "cell_type": "code",
   "execution_count": 6,
   "metadata": {
    "scrolled": true
   },
   "outputs": [
    {
     "data": {
      "text/plain": [
       "'Consider me \"mind blown\".  I setup the range extender in my house on the 2nd level to support my sons PC, he was having lag issues on minecraft.  I wasn\\'t expecting to much from this item, just hoping to boost the signal in the 1500 square foot house from the main floor to the second floor.  To my surprise not only did the TP-Link boost the signal to the 2nd floor as desired but it also increased my signal strength in the basement on my primary PC.  Now, when I say increased I mean INCREASED!!!!, talking going from 3mbs to 44mbs (download speeds).  This was a huge surprise to me and I am ecstatic about this product.  I would recommend this item to anyone who has a weak signal from their primary router.  Never thought I would get more from a range extender then I do my wireless router.  Great product.  Pictures/video to come confirming speeds.'"
      ]
     },
     "execution_count": 6,
     "metadata": {},
     "output_type": "execute_result"
    }
   ],
   "source": [
    "contents[0]"
   ]
  },
  {
   "cell_type": "code",
   "execution_count": 7,
   "metadata": {},
   "outputs": [],
   "source": [
    "# 保存\n",
    "f = open('review.txt', 'w')\n",
    "f.writelines(content) \n",
    "f.close()"
   ]
  }
 ],
 "metadata": {
  "kernelspec": {
   "display_name": "Python 3",
   "language": "python",
   "name": "python3"
  },
  "language_info": {
   "codemirror_mode": {
    "name": "ipython",
    "version": 3
   },
   "file_extension": ".py",
   "mimetype": "text/x-python",
   "name": "python",
   "nbconvert_exporter": "python",
   "pygments_lexer": "ipython3",
   "version": "3.6.7"
  },
  "toc": {
   "base_numbering": 1,
   "nav_menu": {},
   "number_sections": true,
   "sideBar": true,
   "skip_h1_title": false,
   "title_cell": "Table of Contents",
   "title_sidebar": "Contents",
   "toc_cell": false,
   "toc_position": {},
   "toc_section_display": true,
   "toc_window_display": false
  }
 },
 "nbformat": 4,
 "nbformat_minor": 2
}
